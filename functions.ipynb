{
 "cells": [
  {
   "cell_type": "markdown",
   "id": "5cf79392",
   "metadata": {},
   "source": [
    "## map() function"
   ]
  },
  {
   "cell_type": "code",
   "execution_count": 1,
   "id": "d74536b5",
   "metadata": {},
   "outputs": [],
   "source": [
    "# A list of my grades\n",
    "my_grades = [\"B\", \"C\", \"B\", \"D\"]"
   ]
  },
  {
   "cell_type": "code",
   "execution_count": 2,
   "id": "46bd8879",
   "metadata": {},
   "outputs": [],
   "source": [
    "import pandas as pd"
   ]
  },
  {
   "cell_type": "code",
   "execution_count": 3,
   "id": "ca2dc21c",
   "metadata": {},
   "outputs": [
    {
     "data": {
      "text/plain": [
       "0    B\n",
       "1    C\n",
       "2    B\n",
       "3    D\n",
       "dtype: object"
      ]
     },
     "execution_count": 3,
     "metadata": {},
     "output_type": "execute_result"
    }
   ],
   "source": [
    "my_grades = pd.Series(my_grades)\n",
    "my_grades"
   ]
  },
  {
   "cell_type": "code",
   "execution_count": 7,
   "id": "4a655bfb",
   "metadata": {},
   "outputs": [
    {
     "data": {
      "text/plain": [
       "0    A\n",
       "1    B\n",
       "2    A\n",
       "3    C\n",
       "dtype: object"
      ]
     },
     "execution_count": 7,
     "metadata": {},
     "output_type": "execute_result"
    }
   ],
   "source": [
    "# Change the grades by one letter grade\n",
    "my_grades_changed = my_grades.map({\"B\":\"A\", \"C\":\"B\", \"D\":\"C\"})\n",
    "my_grades_changed"
   ]
  },
  {
   "cell_type": "markdown",
   "id": "60aeffd0",
   "metadata": {},
   "source": [
    "## format() function\n",
    "#### In this example, we are going to iterate through a list of grades and format each grade to the nearest whole number percent."
   ]
  },
  {
   "cell_type": "code",
   "execution_count": 9,
   "id": "dc9e01b9",
   "metadata": {},
   "outputs": [
    {
     "name": "stdout",
     "output_type": "stream",
     "text": [
      "92\n",
      "85\n",
      "87\n",
      "98\n"
     ]
    }
   ],
   "source": [
    "# Using the format() function\n",
    "my_grades_2 = [92.34, 84.56, 86.78, 98.32]\n",
    "\n",
    "for my_grade in my_grades_2:\n",
    "    print(\"{:.0f}\".format(my_grade))"
   ]
  },
  {
   "cell_type": "markdown",
   "id": "c61998ca",
   "metadata": {},
   "source": [
    "## Chaining the map() and format() Functions"
   ]
  },
  {
   "cell_type": "code",
   "execution_count": 10,
   "id": "6b21283b",
   "metadata": {},
   "outputs": [
    {
     "data": {
      "text/plain": [
       "0    92.34\n",
       "1    84.56\n",
       "2    86.78\n",
       "3    78.32\n",
       "dtype: float64"
      ]
     },
     "execution_count": 10,
     "metadata": {},
     "output_type": "execute_result"
    }
   ],
   "source": [
    "# Convert the numerical grades to a Series\n",
    "my_grades_3 = pd.Series([92.34, 84.56, 86.78, 78.32])\n",
    "my_grades_3"
   ]
  },
  {
   "cell_type": "code",
   "execution_count": 11,
   "id": "2a3fb38c",
   "metadata": {},
   "outputs": [
    {
     "data": {
      "text/plain": [
       "0    92\n",
       "1    85\n",
       "2    87\n",
       "3    78\n",
       "dtype: object"
      ]
     },
     "execution_count": 11,
     "metadata": {},
     "output_type": "execute_result"
    }
   ],
   "source": [
    "# Format the grades to the nearest whole number percent\n",
    "my_grades_3.map(\"{:.0f}\".format)"
   ]
  },
  {
   "cell_type": "code",
   "execution_count": null,
   "id": "3262169b",
   "metadata": {},
   "outputs": [],
   "source": []
  }
 ],
 "metadata": {
  "kernelspec": {
   "display_name": "PythonData",
   "language": "python",
   "name": "pythondata"
  },
  "language_info": {
   "codemirror_mode": {
    "name": "ipython",
    "version": 3
   },
   "file_extension": ".py",
   "mimetype": "text/x-python",
   "name": "python",
   "nbconvert_exporter": "python",
   "pygments_lexer": "ipython3",
   "version": "3.7.6"
  }
 },
 "nbformat": 4,
 "nbformat_minor": 5
}
