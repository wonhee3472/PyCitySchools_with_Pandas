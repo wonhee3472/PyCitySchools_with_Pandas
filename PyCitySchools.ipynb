{
 "cells": [
  {
   "cell_type": "code",
   "execution_count": null,
   "id": "56dd34aa",
   "metadata": {},
   "outputs": [],
   "source": [
    "import pandas as pd"
   ]
  },
  {
   "cell_type": "code",
   "execution_count": null,
   "id": "1e75221e",
   "metadata": {},
   "outputs": [],
   "source": [
    "# Files to load\n",
    "school_data_to_load = \"Resources/schools_complete.csv\"\n",
    "student_data_to_load = \"Resources/students_complete.csv\"\n",
    "# Read the school data file and store it in a Pandas DataFrame.\n",
    "school_data_df = pd.read_csv(school_data_to_load)\n",
    "school_data_df"
   ]
  },
  {
   "cell_type": "code",
   "execution_count": null,
   "id": "b7da8011",
   "metadata": {},
   "outputs": [],
   "source": [
    "# Read the student data file and store it in a Pandas DataFrame.\n",
    "student_data_df = pd.read_csv(student_data_to_load)\n",
    "student_data_df.head()"
   ]
  },
  {
   "cell_type": "code",
   "execution_count": null,
   "id": "86e11fdf",
   "metadata": {},
   "outputs": [],
   "source": [
    "# Determine if there are any missing values in the school data\n",
    "school_data_df.count()"
   ]
  },
  {
   "cell_type": "code",
   "execution_count": null,
   "id": "37db303c",
   "metadata": {},
   "outputs": [],
   "source": [
    "# Determine if there are any missing values in the student data.\n",
    "student_data_df.count()"
   ]
  },
  {
   "cell_type": "code",
   "execution_count": null,
   "id": "6685d9cd",
   "metadata": {},
   "outputs": [],
   "source": [
    "# Determine if there are any missing values in the school data\n",
    "school_data_df.isnull()"
   ]
  },
  {
   "cell_type": "code",
   "execution_count": null,
   "id": "62ea65ba",
   "metadata": {},
   "outputs": [],
   "source": [
    "student_data_df.isnull().sum()"
   ]
  },
  {
   "cell_type": "code",
   "execution_count": null,
   "id": "62f5da33",
   "metadata": {},
   "outputs": [],
   "source": [
    "# Determine if there are not any missing values in the school data.\n",
    "school_data_df.notnull().sum()"
   ]
  },
  {
   "cell_type": "code",
   "execution_count": null,
   "id": "01c438a7",
   "metadata": {},
   "outputs": [],
   "source": [
    "# Determine if there are not any missing values in the student data.\n",
    "student_data_df.notnull().sum()"
   ]
  },
  {
   "cell_type": "code",
   "execution_count": null,
   "id": "e22f965a",
   "metadata": {},
   "outputs": [],
   "source": [
    "# Add each prefiex and suffix to remove to a list\n",
    "prefixes_suffixes = [\"Dr. \", \"Mr. \",\"Ms. \", \"Mrs. \", \"Miss \", \" MD\", \" DDS\", \" DVM\", \" PhD\"]"
   ]
  },
  {
   "cell_type": "code",
   "execution_count": null,
   "id": "2bfcb893",
   "metadata": {},
   "outputs": [],
   "source": [
    "# Iterate through the words in the \"prefixes_suffixes\" list and replace them with an empty space, \"\".\n",
    "for item in prefixes_suffixes:\n",
    "    student_data_df[\"student_name\"] = student_data_df[\"student_name\"].str.replace(item, \"\")\n",
    "student_data_df.head()"
   ]
  },
  {
   "cell_type": "markdown",
   "id": "f51fcc6f",
   "metadata": {},
   "source": [
    "## Merge DataFrames"
   ]
  },
  {
   "cell_type": "code",
   "execution_count": null,
   "id": "f60fcf68",
   "metadata": {},
   "outputs": [],
   "source": [
    "# Combine the data into a single dataset\n",
    "school_data_complete_df = pd.merge(student_data_df, school_data_df, on=[\"school_name\", \"school_name\"])\n",
    "school_data_complete_df.head()"
   ]
  },
  {
   "cell_type": "markdown",
   "id": "19916dd2",
   "metadata": {},
   "source": [
    "## Get the Number of Students"
   ]
  },
  {
   "cell_type": "code",
   "execution_count": null,
   "id": "03c18b0e",
   "metadata": {},
   "outputs": [],
   "source": [
    "# Get the total number of students\n",
    "student_count = school_data_complete_df.count()\n",
    "student_count"
   ]
  },
  {
   "cell_type": "code",
   "execution_count": null,
   "id": "3318a9f8",
   "metadata": {},
   "outputs": [],
   "source": [
    "student_count2 = school_data_complete_df[\"Student ID\"].count()\n",
    "student_count2"
   ]
  },
  {
   "cell_type": "markdown",
   "id": "8dcb5ede",
   "metadata": {},
   "source": [
    "## Get the Number of Schools"
   ]
  },
  {
   "cell_type": "code",
   "execution_count": null,
   "id": "1fb41722",
   "metadata": {},
   "outputs": [],
   "source": [
    "# Calculate the total number of schools\n",
    "school_count = school_data_df[\"school_name\"].count()\n",
    "school_count"
   ]
  },
  {
   "cell_type": "code",
   "execution_count": null,
   "id": "393ac601",
   "metadata": {},
   "outputs": [],
   "source": [
    "# calculate the total number of schools using the merged DataFrame\n",
    "# since there's 39,170 rows/values in the merged DataFrame, it's better to use unique() instead of count()\n",
    "school_count_2 = school_data_complete_df[\"school_name\"].unique()\n",
    "school_count_2"
   ]
  },
  {
   "cell_type": "code",
   "execution_count": null,
   "id": "6ea33c24",
   "metadata": {},
   "outputs": [],
   "source": [
    "len(school_data_complete_df[\"school_name\"].unique())"
   ]
  },
  {
   "cell_type": "markdown",
   "id": "16f8bd6c",
   "metadata": {},
   "source": [
    "## Get the Total Budget"
   ]
  },
  {
   "cell_type": "code",
   "execution_count": null,
   "id": "a8965fa1",
   "metadata": {},
   "outputs": [],
   "source": [
    "# Calculate the Total Budget using \"school_data_complete_df\" DataFrame\n",
    "total_budget = school_data_complete_df[\"budget\"].sum()\n",
    "total_budget"
   ]
  },
  {
   "cell_type": "code",
   "execution_count": null,
   "id": "88ce88be",
   "metadata": {},
   "outputs": [],
   "source": [
    "# Calculate the Total Budget using \"school_data_df\" DataFrame\n",
    "total_budget_2 = school_data_df[\"budget\"].sum()\n",
    "total_budget_2"
   ]
  },
  {
   "cell_type": "markdown",
   "id": "90bbc78b",
   "metadata": {},
   "source": [
    "## Get the Score Averages"
   ]
  },
  {
   "cell_type": "code",
   "execution_count": null,
   "id": "166b0ae4",
   "metadata": {},
   "outputs": [],
   "source": [
    "# Calculate the average reading score\n",
    "average_reading_score = school_data_complete_df[\"reading_score\"].mean()\n",
    "average_reading_score"
   ]
  },
  {
   "cell_type": "code",
   "execution_count": null,
   "id": "db57c70f",
   "metadata": {},
   "outputs": [],
   "source": [
    "# Calculate the average reading score\n",
    "average_math_score = school_data_complete_df[\"math_score\"].mean()\n",
    "average_math_score"
   ]
  },
  {
   "cell_type": "markdown",
   "id": "e93a4926",
   "metadata": {},
   "source": [
    "## Get the Passing Percentages"
   ]
  },
  {
   "cell_type": "code",
   "execution_count": null,
   "id": "f06c73e1",
   "metadata": {},
   "outputs": [],
   "source": [
    "# Determine the Passing Grade\n",
    "passing_math = school_data_complete_df[\"math_score\"] >= 70\n",
    "passing_reading = school_data_complete_df[\"reading_score\"] >= 70"
   ]
  },
  {
   "cell_type": "code",
   "execution_count": null,
   "id": "89e183d6",
   "metadata": {},
   "outputs": [],
   "source": [
    "# make a new dataframe for the students who passed math\n",
    "passing_math_df = school_data_complete_df[passing_math]\n",
    "passing_math_df.head(5)"
   ]
  },
  {
   "cell_type": "code",
   "execution_count": null,
   "id": "9509b09a",
   "metadata": {},
   "outputs": [],
   "source": [
    "# make a new dataframe for the students who passed reading\n",
    "passing_reading_df = school_data_complete_df[passing_reading]\n",
    "passing_reading_df.head(5)"
   ]
  },
  {
   "cell_type": "code",
   "execution_count": null,
   "id": "81be54d8",
   "metadata": {},
   "outputs": [],
   "source": [
    "# Calculate the number of students passing math\n",
    "passing_math_count = passing_math_df[\"Student ID\"].count()\n",
    "passing_math_count"
   ]
  },
  {
   "cell_type": "code",
   "execution_count": null,
   "id": "f843e75a",
   "metadata": {},
   "outputs": [],
   "source": [
    "# Calculate the number of students passing reading\n",
    "passing_reading_count = passing_reading_df[\"Student ID\"].count()\n",
    "passing_reading_count"
   ]
  },
  {
   "cell_type": "code",
   "execution_count": null,
   "id": "5605eef7",
   "metadata": {},
   "outputs": [],
   "source": [
    "# Get the percentage of students who passed math and reading\n",
    "passing_math_percentage = passing_math_count / float(student_count2) * 100\n",
    "passing_reading_percentage = passing_reading_count / float(student_count2) * 100"
   ]
  },
  {
   "cell_type": "code",
   "execution_count": null,
   "id": "ad30669a",
   "metadata": {},
   "outputs": [],
   "source": [
    "print(passing_math_percentage)\n",
    "print(passing_reading_percentage)"
   ]
  },
  {
   "cell_type": "code",
   "execution_count": null,
   "id": "57e74001",
   "metadata": {},
   "outputs": [],
   "source": [
    "# Calculate the percentage of students who passed both math and reading\n",
    "passing_math_reading = school_data_complete_df[passing_math & passing_reading]\n",
    "passing_math_reading.head(5)"
   ]
  },
  {
   "cell_type": "code",
   "execution_count": null,
   "id": "9da306f8",
   "metadata": {},
   "outputs": [],
   "source": [
    "# Calculate the number of students who passed both math and reading\n",
    "overall_passing_math_reading_count = passing_math_reading[\"student_name\"].count()\n",
    "overall_passing_math_reading_count"
   ]
  },
  {
   "cell_type": "code",
   "execution_count": null,
   "id": "bd3118b6",
   "metadata": {},
   "outputs": [],
   "source": [
    "# Calculate the overall passing percentage\n",
    "overall_passing_percentage = overall_passing_math_reading_count / student_count2 * 100\n",
    "overall_passing_percentage"
   ]
  },
  {
   "cell_type": "markdown",
   "id": "2b86a35a",
   "metadata": {},
   "source": [
    "## Create a District Summary DataFrame\n",
    "#### Maria is eager to see the district summary so that she can pass the information along to stakeholders. You'll need to combine all of the metrics we just calculated and put them in a new DataFrame to provide Maria with a table that contains all the data"
   ]
  },
  {
   "cell_type": "code",
   "execution_count": null,
   "id": "b8e61e86",
   "metadata": {},
   "outputs": [],
   "source": [
    "district_summary_df = pd.DataFrame(\n",
    "                        [{\"Total Schools\": school_count,\n",
    "                          \"Total Students\": student_count2,\n",
    "                          \"Total Budget\": total_budget_2,\n",
    "                          \"Average Math Score\": average_math_score,\n",
    "                          \"Average Reading Score\": average_reading_score,\n",
    "                          \"% Passing Math\": passing_math_percentage,\n",
    "                          \"% Passing Reading\": passing_reading_percentage,\n",
    "                          \"% Overall Passing\": overall_passing_percentage}])\n",
    "district_summary_df"
   ]
  },
  {
   "cell_type": "markdown",
   "id": "62ff2ab5",
   "metadata": {},
   "source": [
    "## Format Columns"
   ]
  },
  {
   "cell_type": "markdown",
   "id": "a8885f7a",
   "metadata": {},
   "source": [
    "#### Maria is impressed by your summary DataFrame but wants to add some formatting to make the DataFrame look more professional. You'll need to format the budget to two decimal places; format the grade averages to one decimal place and grade percentages to the nearest whole number percent; and add a thousands separator for numbers greater than 1,000."
   ]
  },
  {
   "cell_type": "markdown",
   "id": "b647912a",
   "metadata": {},
   "source": [
    "### A little bit about functions"
   ]
  },
  {
   "cell_type": "code",
   "execution_count": null,
   "id": "dc0e19e8",
   "metadata": {},
   "outputs": [],
   "source": [
    "passing_math_count = 29370\n",
    "total_student_count = 39170"
   ]
  },
  {
   "cell_type": "code",
   "execution_count": null,
   "id": "26620931",
   "metadata": {},
   "outputs": [],
   "source": [
    "# Define a function that calculates the percentage of students that passed\n",
    "# math and returns the passing percentage when the function is called.\n",
    "\n",
    "def passing_math_percent(passing_math_count, total_student_count):\n",
    "    return passing_math_count / float(total_student_count) * 100"
   ]
  },
  {
   "cell_type": "code",
   "execution_count": null,
   "id": "ce3c8a14",
   "metadata": {},
   "outputs": [],
   "source": [
    "passing_math_percent(passing_math_count, total_student_count)"
   ]
  },
  {
   "cell_type": "code",
   "execution_count": null,
   "id": "ef11228f",
   "metadata": {},
   "outputs": [],
   "source": [
    "district_summary_df"
   ]
  },
  {
   "cell_type": "code",
   "execution_count": null,
   "id": "dc869419",
   "metadata": {},
   "outputs": [],
   "source": [
    "# Format the \"Total Students\" to have the comma for a thousands separator\n",
    "# district_summary_df[\"Total Students\"] = district_summary_df[\"Total Students\"].map(\"{:,}\".format)\n",
    "district_summary_df[\"Total Students\"]"
   ]
  },
  {
   "cell_type": "code",
   "execution_count": null,
   "id": "f76c03c9",
   "metadata": {},
   "outputs": [],
   "source": [
    "# district_summary_df[\"Total Budget\"] = district_summary_df[\"Total Budget\"].map(\"${:,}\".format)\n",
    "district_summary_df[\"Total Budget\"]"
   ]
  },
  {
   "cell_type": "code",
   "execution_count": null,
   "id": "61179694",
   "metadata": {},
   "outputs": [],
   "source": [
    "# Formatting the rest of the columns\n",
    "district_summary_df[\"Average Math Score\"] = district_summary_df[\"Average Math Score\"].map(\"{:.1f}\".format)\n",
    "\n",
    "district_summary_df[\"Average Reading Score\"] = district_summary_df[\"Average Reading Score\"].map(\"{:.1f}\".format)\n",
    "\n",
    "district_summary_df[\"% Passing Math\"] = district_summary_df[\"% Passing Math\"].map(\"{:.0f}\".format)\n",
    "\n",
    "district_summary_df[\"% Passing Reading\"] = district_summary_df[\"% Passing Reading\"].map(\"{:.0f}\".format)\n",
    "\n",
    "district_summary_df[\"% Overall Passing\"] = district_summary_df[\"% Overall Passing\"].map(\"{:.0f}\".format)"
   ]
  },
  {
   "cell_type": "code",
   "execution_count": null,
   "id": "5a0539b6",
   "metadata": {},
   "outputs": [],
   "source": [
    "district_summary_df"
   ]
  },
  {
   "cell_type": "markdown",
   "id": "45587eea",
   "metadata": {},
   "source": [
    "# 4.8.1 Set the Index to the School Name\n",
    "### Maria is impressed with the work you have done generating the district summary. Now she would like to generate a similar summary for each school in the district"
   ]
  },
  {
   "cell_type": "code",
   "execution_count": null,
   "id": "d735f234",
   "metadata": {},
   "outputs": [],
   "source": [
    "# In this code, the \"set_index\" method will return a Series with the index as the \"school_name\"\n",
    "# and a column with the type of school\n",
    "per_school_types = school_data_df.set_index([\"school_name\"])[\"type\"]\n",
    "per_school_types"
   ]
  },
  {
   "cell_type": "code",
   "execution_count": null,
   "id": "cbc343dc",
   "metadata": {},
   "outputs": [],
   "source": [
    "# Now we'll create a new DataFrame by converting this Series to a DataFrame as follows:\n",
    "df = pd.DataFrame(per_school_types)\n",
    "df.head(5)"
   ]
  },
  {
   "cell_type": "markdown",
   "id": "d7895cd9",
   "metadata": {},
   "source": [
    "# 4.8.2 Get the Student Count Per School\n",
    "### Next to the \"type\" of school column, Maria wants you to add the total number of students in each school. However, you have the number of students in two DataFrames: school_data_df and school_data_complete_df. Which one do you use? You'll need to get the number of students from both DataFrames and find which one has \"school_name\" as the index."
   ]
  },
  {
   "cell_type": "code",
   "execution_count": null,
   "id": "747e1efe",
   "metadata": {},
   "outputs": [],
   "source": [
    "school_data_df.head(5)"
   ]
  },
  {
   "cell_type": "code",
   "execution_count": null,
   "id": "31bed985",
   "metadata": {},
   "outputs": [],
   "source": [
    "per_school_counts = school_data_df.set_index([\"school_name\"])[\"size\"]\n",
    "per_school_counts"
   ]
  },
  {
   "cell_type": "markdown",
   "id": "ff302530",
   "metadata": {},
   "source": [
    "# 4.8.3 Get the Budget Per Student\n",
    "### Next tp the Total Students column, Maria wants you to add the budget per student for each school. First, you'll need to get the budget for each school and then divide by the total students per school, which you already calculated as \"per_school_counts\"."
   ]
  },
  {
   "cell_type": "code",
   "execution_count": null,
   "id": "c52d9e9a",
   "metadata": {},
   "outputs": [],
   "source": [
    "# Calculate the total school budget.\n",
    "per_school_budget = school_data_df.set_index([\"school_name\"])[\"budget\"]\n",
    "per_school_budget"
   ]
  },
  {
   "cell_type": "code",
   "execution_count": null,
   "id": "4ec6f497",
   "metadata": {},
   "outputs": [],
   "source": [
    "# Calculate the per capita spending.\n",
    "per_school_capita = per_school_budget / per_school_counts\n",
    "per_school_capita"
   ]
  },
  {
   "cell_type": "markdown",
   "id": "107bed64",
   "metadata": {},
   "source": [
    "## 4.8.4 Get the Score Averages Per School\n",
    "#### Now you need to calculate the average math score and the average reading score for each school"
   ]
  },
  {
   "cell_type": "code",
   "execution_count": null,
   "id": "d4315407",
   "metadata": {},
   "outputs": [],
   "source": [
    "# Calculate the math scores.\n",
    "student_school_math = student_data_df.set_index([\"school_name\"])[\"math_score\"]\n",
    "student_school_math.head(5)"
   ]
  },
  {
   "cell_type": "markdown",
   "id": "8f3f245d",
   "metadata": {},
   "source": [
    "Using the `set_index()` method on the `\"school_name\"` column in `student_data_df` is not good because there are too many occurrences of the school_name column.\n",
    "\n",
    "Instead, we use the `groupby()` function as it splits an object (like a DataFrame), apply a mathematical operation, and combine the results. This can be used to group large amounts of data when we want to compute mathematical operations on these groups.\n",
    "\n",
    "In our case, the mathematical operation we will apply to the `groupby()` function is the `mean()` method. Let's see how this will look when we apply it to `school_data_complete_df` to get the grade averages for each column. "
   ]
  },
  {
   "cell_type": "code",
   "execution_count": null,
   "id": "966b9367",
   "metadata": {},
   "outputs": [],
   "source": [
    "school_data_complete_df.head(5)"
   ]
  },
  {
   "cell_type": "code",
   "execution_count": null,
   "id": "23c4c550",
   "metadata": {},
   "outputs": [],
   "source": [
    "# Calculate the avereage math scores.\n",
    "per_school_averages = school_data_complete_df.groupby([\"school_name\"]).mean()\n",
    "per_school_averages.head(5)"
   ]
  },
  {
   "cell_type": "code",
   "execution_count": null,
   "id": "5d9c7eef",
   "metadata": {},
   "outputs": [],
   "source": [
    "# Calculate the average test scores\n",
    "per_school_math_average = school_data_complete_df.groupby([\"school_name\"]).mean()[\"math_score\"]\n",
    "per_school_reading_average = school_data_complete_df.groupby([\"school_name\"]).mean()[\"reading_score\"]"
   ]
  },
  {
   "cell_type": "code",
   "execution_count": null,
   "id": "ecc6e433",
   "metadata": {},
   "outputs": [],
   "source": [
    "per_school_math_average.head(5)"
   ]
  },
  {
   "cell_type": "code",
   "execution_count": null,
   "id": "9217eb6e",
   "metadata": {},
   "outputs": [],
   "source": [
    "per_school_reading_average.head(5)"
   ]
  },
  {
   "cell_type": "markdown",
   "id": "f5b7ba74",
   "metadata": {},
   "source": [
    "## 4.8.5 Get the Passing Percentages Per School\n",
    "Now Maria would like you to continue gathering key data by calculating the passing percentages for math and reading for each school, as well as get the overall passing percentage for each school. "
   ]
  },
  {
   "cell_type": "code",
   "execution_count": null,
   "id": "f2231c96",
   "metadata": {},
   "outputs": [],
   "source": [
    "# To get the passing percentages, we need to:\n",
    "# 1. Determine what is the passing grade (>=70)\n",
    "# 2. Calculate the passing scores by creating a filtered DataFrame\n",
    "per_school_passing_math = school_data_complete_df[(school_data_complete_df[\"math_score\"] >= 70)]\n",
    "per_school_passing_reading = school_data_complete_df[(school_data_complete_df[\"reading_score\"] >= 70)]\n",
    "# 3. Get the number of students who passed math and passed reading by school."
   ]
  },
  {
   "cell_type": "code",
   "execution_count": null,
   "id": "a7bc6edd",
   "metadata": {},
   "outputs": [],
   "source": [
    "per_school_passing_math.head(5)"
   ]
  },
  {
   "cell_type": "code",
   "execution_count": null,
   "id": "f9ad1a11",
   "metadata": {},
   "outputs": [],
   "source": [
    "per_school_passing_reading.head(5)"
   ]
  },
  {
   "cell_type": "code",
   "execution_count": null,
   "id": "cbc65156",
   "metadata": {},
   "outputs": [],
   "source": [
    "passing_student_number_per_school_math = per_school_passing_math.groupby([\"school_name\"]).count()[\"student_name\"]\n",
    "passing_student_number_per_school_reading = per_school_passing_reading.groupby([\"school_name\"]).count()[\"student_name\"]"
   ]
  },
  {
   "cell_type": "code",
   "execution_count": null,
   "id": "e8aee01d",
   "metadata": {},
   "outputs": [],
   "source": [
    "passing_student_number_per_school_math.head()"
   ]
  },
  {
   "cell_type": "code",
   "execution_count": null,
   "id": "5f70f45d",
   "metadata": {},
   "outputs": [],
   "source": [
    "passing_student_number_per_school_reading"
   ]
  },
  {
   "cell_type": "code",
   "execution_count": null,
   "id": "2af57258",
   "metadata": {},
   "outputs": [],
   "source": [
    "# Determine the Percentage of Students Passing Math and Reading\n",
    "percentage_students_passing_math = passing_student_number_per_school_math / per_school_counts * 100\n",
    "percentage_students_passing_reading = passing_student_number_per_school_reading / per_school_counts * 100"
   ]
  },
  {
   "cell_type": "code",
   "execution_count": null,
   "id": "fdb31131",
   "metadata": {},
   "outputs": [],
   "source": [
    "percentage_students_passing_math"
   ]
  },
  {
   "cell_type": "code",
   "execution_count": null,
   "id": "6e176283",
   "metadata": {},
   "outputs": [],
   "source": [
    "percentage_students_passing_reading"
   ]
  },
  {
   "cell_type": "code",
   "execution_count": null,
   "id": "115d17ca",
   "metadata": {},
   "outputs": [],
   "source": [
    "# Get the overall passing percentage for all students for each school\n",
    "# Calculate the students who passed both math and reading\n",
    "per_passing_math_reading = school_data_complete_df[(school_data_complete_df[\"math_score\"] >= 70) & (school_data_complete_df[\"reading_score\"] >= 70)]\n",
    "per_passing_math_reading.head()"
   ]
  },
  {
   "cell_type": "code",
   "execution_count": null,
   "id": "8e506e10",
   "metadata": {},
   "outputs": [],
   "source": [
    "per_passing_math_reading = per_passing_math_reading.groupby([\"school_name\"]).count()[\"student_name\"]\n",
    "per_passing_math_reading"
   ]
  },
  {
   "cell_type": "code",
   "execution_count": null,
   "id": "58fdd945",
   "metadata": {},
   "outputs": [],
   "source": [
    "# Calculate the overall passing percentage\n",
    "per_overall_passing_percentage = per_passing_math_reading / per_school_counts * 100\n",
    "per_overall_passing_percentage"
   ]
  },
  {
   "cell_type": "code",
   "execution_count": null,
   "id": "7b055c29",
   "metadata": {},
   "outputs": [],
   "source": []
  }
 ],
 "metadata": {
  "kernelspec": {
   "display_name": "PythonData",
   "language": "python",
   "name": "pythondata"
  },
  "language_info": {
   "codemirror_mode": {
    "name": "ipython",
    "version": 3
   },
   "file_extension": ".py",
   "mimetype": "text/x-python",
   "name": "python",
   "nbconvert_exporter": "python",
   "pygments_lexer": "ipython3",
   "version": "3.7.6"
  }
 },
 "nbformat": 4,
 "nbformat_minor": 5
}
